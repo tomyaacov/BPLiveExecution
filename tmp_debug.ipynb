{
 "cells": [
  {
   "cell_type": "code",
   "execution_count": 1,
   "metadata": {
    "collapsed": true
   },
   "outputs": [],
   "source": [
    "import spot\n",
    "import buddy\n",
    "from utils import timer\n",
    "spot.setup()"
   ]
  },
  {
   "cell_type": "code",
   "execution_count": 2,
   "outputs": [],
   "source": [
    "import javaobj\n",
    "from dfs.dfs_node import DFSNode\n",
    "\n",
    "def transform_dict(d, per_bthread):\n",
    "    visited = {}\n",
    "    nodes_map = {}\n",
    "    total_events = set()\n",
    "    counter = 0\n",
    "    for s in d:\n",
    "        try:\n",
    "            n = DFSNode(tuple(), str(s))\n",
    "        except Exception:\n",
    "            print(s)\n",
    "            continue\n",
    "        must_finish_str = str(d[s][\"H\"]).split(\",\")\n",
    "        must_finish_dict = dict([(must_finish_str[2*i], must_finish_str[2*i+1] == \"1\") for i in range(len(must_finish_str)//2)])\n",
    "        n.must_finish = [must_finish_dict[\"box\" + str(x)] for x in range(len(must_finish_dict))]\n",
    "        visited[n] = counter\n",
    "        nodes_map[str(s)] = n\n",
    "        counter += 1\n",
    "    for s in d:\n",
    "        for e in d[s]:\n",
    "            if e == \"H\":\n",
    "                continue\n",
    "            l = str(e)\n",
    "            nodes_map[str(s)].transitions[l] = nodes_map[str(d[s][e])]\n",
    "            if per_bthread:\n",
    "                nodes_map[str(s)].rewards[l] = sum([int(y)-int(x) for x,y in zip(nodes_map[str(d[s][e])].must_finish, nodes_map[str(s)].must_finish)])\n",
    "            else:\n",
    "                nodes_map[str(s)].rewards[l] = int(not any(nodes_map[str(d[s][e])].must_finish)) - \\\n",
    "                                               int(not any(nodes_map[str(s)].must_finish))\n",
    "            total_events.add(l)\n",
    "    s_to_change = [k for k, v in visited.items() if v == 0][0]\n",
    "    init_s = [nodes_map[x] for x in nodes_map if x.startswith(\"I\")][0]\n",
    "    number_to_change = visited[init_s]\n",
    "    visited[init_s] = 0\n",
    "    visited[s_to_change] = number_to_change\n",
    "    return init_s, visited, total_events, None\n"
   ],
   "metadata": {
    "collapsed": false
   }
  },
  {
   "cell_type": "code",
   "execution_count": 12,
   "outputs": [],
   "source": [
    "i = \"map_6_8_3_test\"\n",
    "PER_BT = True\n",
    "with open(\"examples/graph_objects/sokoban_cobp_\" + str(i) + \".ser\", \"rb\") as fd:\n",
    "    jobj = fd.read()\n",
    "    pobj = javaobj.loads(jobj)\n",
    "    init, states_dict, events, liveness_bthreads = transform_dict(pobj, PER_BT)\n",
    "states = list(states_dict)\n",
    "bdict = spot.make_bdd_dict()\n",
    "game = spot.make_twa_graph(bdict)\n",
    "dict_bdd = {}\n",
    "for e in events:\n",
    "    dict_bdd[e] = buddy.bdd_ithvar(game.register_ap(e))\n",
    "game.new_states(len(states_dict))\n",
    "for s1, id1 in states_dict.items():\n",
    "    for e, s2 in s1.transitions.items():\n",
    "        l = [i for i in range(len(s2.must_finish)) if not s2.must_finish[i]]\n",
    "        game.new_edge(id1, states_dict[s2], dict_bdd[e], l)\n",
    "        #print(id1, states_dict[s2], l)\n",
    "\n",
    "game.set_init_state(0)\n",
    "game.set_generalized_buchi(len(s1.must_finish))\n",
    "spot.set_state_players(game, [True] * len(states))"
   ],
   "metadata": {
    "collapsed": false
   }
  },
  {
   "cell_type": "code",
   "execution_count": 4,
   "outputs": [
    {
     "data": {
      "text/plain": "{'S_2_3_D_1_2_2_4': 5,\n 'S_3_2_D_1_2_2_3': 1,\n 'S_2_2_D_1_2_2_3': 2,\n 'S_2_2_D_1_2_2_4': 3,\n 'S_3_2_D_1_2_2_4': 4,\n 'I_3_2_D_2_2_2_3': 0}"
     },
     "execution_count": 4,
     "metadata": {},
     "output_type": "execute_result"
    }
   ],
   "source": [
    "dict([(k.id,v) for k,v in states_dict.items()])"
   ],
   "metadata": {
    "collapsed": false
   }
  },
  {
   "cell_type": "code",
   "execution_count": 38,
   "outputs": [],
   "source": [
    "game = spot.make_twa_graph(bdict)\n",
    "dict_bdd = {}\n",
    "dict_bdd[\"A\"] = buddy.bdd_ithvar(game.register_ap(\"A\"))\n",
    "game.new_states(4)\n",
    "game.new_edge(0, 1, dict_bdd[\"A\"], [])\n",
    "game.new_edge(0, 2, dict_bdd[\"A\"], [1])\n",
    "game.new_edge(0, 3, dict_bdd[\"A\"], [])\n",
    "game.new_edge(1, 1, dict_bdd[\"A\"], [0])\n",
    "game.new_edge(2, 0, dict_bdd[\"A\"], [0])\n",
    "game.new_edge(3, 3, dict_bdd[\"A\"], [1])\n",
    "game.new_edge(1, 2, dict_bdd[\"A\"], [0])\n",
    "\n",
    "\n",
    "game.set_init_state(0)\n",
    "game.set_generalized_buchi(len(s1.must_finish))\n",
    "spot.set_state_players(game, [True] * 4)"
   ],
   "metadata": {
    "collapsed": false
   }
  },
  {
   "cell_type": "code",
   "execution_count": 39,
   "outputs": [
    {
     "data": {
      "text/plain": "<spot.jupyter.SVG object>",
      "image/svg+xml": "<?xml version=\"1.0\" encoding=\"UTF-8\" standalone=\"no\"?>\n<!DOCTYPE svg PUBLIC \"-//W3C//DTD SVG 1.1//EN\"\n \"http://www.w3.org/Graphics/SVG/1.1/DTD/svg11.dtd\">\n<!-- Generated by graphviz version 2.50.0 (0)\n -->\n<!-- Pages: 1 -->\n<svg width=\"296pt\" height=\"284pt\"\n viewBox=\"0.00 0.00 296.00 283.82\" xmlns=\"http://www.w3.org/2000/svg\" xmlns:xlink=\"http://www.w3.org/1999/xlink\">\n<g id=\"graph0\" class=\"graph\" transform=\"scale(1.0 1.0) rotate(0) translate(4 279.82)\">\n<polygon fill=\"white\" stroke=\"transparent\" points=\"-4,4 -4,-279.82 292,-279.82 292,4 -4,4\"/>\n<text text-anchor=\"start\" x=\"99.5\" y=\"-261.62\" font-family=\"Lato\" font-size=\"14.00\">Inf(</text>\n<text text-anchor=\"start\" x=\"119.5\" y=\"-261.62\" font-family=\"Lato\" font-size=\"14.00\" fill=\"#1f78b4\">⓿</text>\n<text text-anchor=\"start\" x=\"134.5\" y=\"-261.62\" font-family=\"Lato\" font-size=\"14.00\">)&amp;Inf(</text>\n<text text-anchor=\"start\" x=\"168.5\" y=\"-261.62\" font-family=\"Lato\" font-size=\"14.00\" fill=\"#ff4da0\">❶</text>\n<text text-anchor=\"start\" x=\"183.5\" y=\"-261.62\" font-family=\"Lato\" font-size=\"14.00\">)</text>\n<text text-anchor=\"start\" x=\"102.5\" y=\"-247.62\" font-family=\"Lato\" font-size=\"14.00\">[gen. Büchi 2]</text>\n<!-- I -->\n<!-- 0 -->\n<g id=\"node2\" class=\"node\">\n<title>0</title>\n<polygon fill=\"#ffffaa\" stroke=\"black\" points=\"65,-127.82 38,-109.82 65,-91.82 92,-109.82 65,-127.82\"/>\n<text text-anchor=\"middle\" x=\"65\" y=\"-106.12\" font-family=\"Lato\" font-size=\"14.00\">0</text>\n</g>\n<!-- I&#45;&gt;0 -->\n<g id=\"edge1\" class=\"edge\">\n<title>I&#45;&gt;0</title>\n<path fill=\"none\" stroke=\"black\" d=\"M1.05,-109.82C1.95,-109.82 16.1,-109.82 30.76,-109.82\"/>\n<polygon fill=\"black\" stroke=\"black\" points=\"37.94,-109.82 30.94,-112.97 34.44,-109.82 30.94,-109.82 30.94,-109.82 30.94,-109.82 34.44,-109.82 30.94,-106.67 37.94,-109.82 37.94,-109.82\"/>\n</g>\n<!-- 1 -->\n<g id=\"node3\" class=\"node\">\n<title>1</title>\n<polygon fill=\"#ffffaa\" stroke=\"black\" points=\"156,-206.82 129,-188.82 156,-170.82 183,-188.82 156,-206.82\"/>\n<text text-anchor=\"middle\" x=\"156\" y=\"-185.12\" font-family=\"Lato\" font-size=\"14.00\">1</text>\n</g>\n<!-- 0&#45;&gt;1 -->\n<g id=\"edge2\" class=\"edge\">\n<title>0&#45;&gt;1</title>\n<path fill=\"none\" stroke=\"black\" d=\"M76.64,-120.41C85.42,-129.04 98.3,-141.46 110,-151.82 118.86,-159.67 129.02,-168.07 137.44,-174.89\"/>\n<polygon fill=\"black\" stroke=\"black\" points=\"142.96,-179.32 135.53,-177.39 140.23,-177.13 137.5,-174.93 137.5,-174.93 137.5,-174.93 140.23,-177.13 139.47,-172.48 142.96,-179.32 142.96,-179.32\"/>\n</g>\n<!-- 2 -->\n<g id=\"node4\" class=\"node\">\n<title>2</title>\n<polygon fill=\"#ffffaa\" stroke=\"black\" points=\"261,-155.82 234,-137.82 261,-119.82 288,-137.82 261,-155.82\"/>\n<text text-anchor=\"middle\" x=\"261\" y=\"-134.12\" font-family=\"Lato\" font-size=\"14.00\">2</text>\n</g>\n<!-- 0&#45;&gt;2 -->\n<g id=\"edge3\" class=\"edge\">\n<title>0&#45;&gt;2</title>\n<path fill=\"none\" stroke=\"black\" d=\"M87.5,-112.93C122.61,-117.99 192.24,-128.04 231.45,-133.7\"/>\n<polygon fill=\"black\" stroke=\"black\" points=\"238.4,-134.71 231.02,-136.82 234.94,-134.21 231.47,-133.71 231.47,-133.71 231.47,-133.71 234.94,-134.21 231.92,-130.59 238.4,-134.71 238.4,-134.71\"/>\n<text text-anchor=\"start\" x=\"148.5\" y=\"-129.62\" font-family=\"Lato\" font-size=\"14.00\" fill=\"#ff4da0\">❶</text>\n</g>\n<!-- 3 -->\n<g id=\"node5\" class=\"node\">\n<title>3</title>\n<polygon fill=\"#ffffaa\" stroke=\"black\" points=\"156,-68.82 129,-50.82 156,-32.82 183,-50.82 156,-68.82\"/>\n<text text-anchor=\"middle\" x=\"156\" y=\"-47.12\" font-family=\"Lato\" font-size=\"14.00\">3</text>\n</g>\n<!-- 0&#45;&gt;3 -->\n<g id=\"edge4\" class=\"edge\">\n<title>0&#45;&gt;3</title>\n<path fill=\"none\" stroke=\"black\" d=\"M79.13,-101.12C94.12,-91.18 118.76,-74.85 135.88,-63.5\"/>\n<polygon fill=\"black\" stroke=\"black\" points=\"141.81,-59.56 137.72,-66.06 138.9,-61.5 135.98,-63.43 135.98,-63.43 135.98,-63.43 138.9,-61.5 134.24,-60.81 141.81,-59.56 141.81,-59.56\"/>\n</g>\n<!-- 1&#45;&gt;1 -->\n<g id=\"edge5\" class=\"edge\">\n<title>1&#45;&gt;1</title>\n<path fill=\"none\" stroke=\"black\" d=\"M148.91,-202.49C146.07,-213.48 148.44,-224.82 156,-224.82 161.91,-224.82 164.64,-217.9 164.2,-209.63\"/>\n<polygon fill=\"black\" stroke=\"black\" points=\"163.09,-202.49 167.28,-208.92 163.63,-205.95 164.17,-209.41 164.17,-209.41 164.17,-209.41 163.63,-205.95 161.06,-209.89 163.09,-202.49 163.09,-202.49\"/>\n<text text-anchor=\"start\" x=\"148.5\" y=\"-228.62\" font-family=\"Lato\" font-size=\"14.00\" fill=\"#1f78b4\">⓿</text>\n</g>\n<!-- 1&#45;&gt;2 -->\n<g id=\"edge6\" class=\"edge\">\n<title>1&#45;&gt;2</title>\n<path fill=\"none\" stroke=\"black\" d=\"M172.2,-181.3C189.79,-172.58 218.9,-158.18 238.73,-148.35\"/>\n<polygon fill=\"black\" stroke=\"black\" points=\"245.07,-145.21 240.2,-151.14 241.94,-146.77 238.8,-148.32 238.8,-148.32 238.8,-148.32 241.94,-146.77 237.4,-145.5 245.07,-145.21 245.07,-145.21\"/>\n<text text-anchor=\"start\" x=\"201\" y=\"-169.62\" font-family=\"Lato\" font-size=\"14.00\" fill=\"#1f78b4\">⓿</text>\n</g>\n<!-- 2&#45;&gt;0 -->\n<g id=\"edge7\" class=\"edge\">\n<title>2&#45;&gt;0</title>\n<path fill=\"none\" stroke=\"black\" d=\"M256.26,-122.75C248.31,-94.37 226.78,-33.67 183,-8.82 162.13,3.03 149.99,2.82 129,-8.82 98.57,-25.7 80.92,-64.07 72.4,-88.36\"/>\n<polygon fill=\"black\" stroke=\"black\" points=\"70.14,-95.11 69.37,-87.47 71.25,-91.79 72.36,-88.47 72.36,-88.47 72.36,-88.47 71.25,-91.79 75.35,-89.47 70.14,-95.11 70.14,-95.11\"/>\n<text text-anchor=\"start\" x=\"148.5\" y=\"-12.62\" font-family=\"Lato\" font-size=\"14.00\" fill=\"#1f78b4\">⓿</text>\n</g>\n<!-- 3&#45;&gt;3 -->\n<g id=\"edge8\" class=\"edge\">\n<title>3&#45;&gt;3</title>\n<path fill=\"none\" stroke=\"black\" d=\"M148.91,-64.49C146.07,-75.48 148.44,-86.82 156,-86.82 161.91,-86.82 164.64,-79.9 164.2,-71.63\"/>\n<polygon fill=\"black\" stroke=\"black\" points=\"163.09,-64.49 167.28,-70.92 163.63,-67.95 164.17,-71.41 164.17,-71.41 164.17,-71.41 163.63,-67.95 161.06,-71.89 163.09,-64.49 163.09,-64.49\"/>\n<text text-anchor=\"start\" x=\"148.5\" y=\"-90.62\" font-family=\"Lato\" font-size=\"14.00\" fill=\"#ff4da0\">❶</text>\n</g>\n</g>\n</svg>\n"
     },
     "execution_count": 39,
     "metadata": {},
     "output_type": "execute_result"
    }
   ],
   "source": [
    "game.show('.g')"
   ],
   "metadata": {
    "collapsed": false
   }
  },
  {
   "cell_type": "code",
   "execution_count": 40,
   "outputs": [
    {
     "data": {
      "text/plain": "<spot.jupyter.SVG object>",
      "image/svg+xml": "<?xml version=\"1.0\" encoding=\"UTF-8\" standalone=\"no\"?>\n<!DOCTYPE svg PUBLIC \"-//W3C//DTD SVG 1.1//EN\"\n \"http://www.w3.org/Graphics/SVG/1.1/DTD/svg11.dtd\">\n<!-- Generated by graphviz version 2.50.0 (0)\n -->\n<!-- Pages: 1 -->\n<svg width=\"233pt\" height=\"235pt\"\n viewBox=\"0.00 0.00 233.00 235.19\" xmlns=\"http://www.w3.org/2000/svg\" xmlns:xlink=\"http://www.w3.org/1999/xlink\">\n<g id=\"graph0\" class=\"graph\" transform=\"scale(1.0 1.0) rotate(0) translate(4 231.19)\">\n<polygon fill=\"white\" stroke=\"transparent\" points=\"-4,4 -4,-231.19 229,-231.19 229,4 -4,4\"/>\n<text text-anchor=\"start\" x=\"91.5\" y=\"-211.99\" font-family=\"Lato\" font-size=\"14.00\">[Büchi]</text>\n<!-- I -->\n<!-- 0 -->\n<g id=\"node2\" class=\"node\">\n<title>0</title>\n<ellipse fill=\"#ffffaa\" stroke=\"black\" cx=\"55\" cy=\"-110.19\" rx=\"18\" ry=\"18\"/>\n<text text-anchor=\"middle\" x=\"55\" y=\"-106.49\" font-family=\"Lato\" font-size=\"14.00\">0</text>\n</g>\n<!-- I&#45;&gt;0 -->\n<g id=\"edge1\" class=\"edge\">\n<title>I&#45;&gt;0</title>\n<path fill=\"none\" stroke=\"black\" d=\"M1.15,-110.19C2.75,-110.19 16.68,-110.19 29.83,-110.19\"/>\n<polygon fill=\"black\" stroke=\"black\" points=\"36.98,-110.19 29.98,-113.34 33.48,-110.19 29.98,-110.19 29.98,-110.19 29.98,-110.19 33.48,-110.19 29.98,-107.04 36.98,-110.19 36.98,-110.19\"/>\n</g>\n<!-- 1 -->\n<g id=\"node3\" class=\"node\">\n<title>1</title>\n<ellipse fill=\"#ffffaa\" stroke=\"black\" cx=\"131\" cy=\"-168.19\" rx=\"18\" ry=\"18\"/>\n<text text-anchor=\"middle\" x=\"131\" y=\"-164.49\" font-family=\"Lato\" font-size=\"14.00\">1</text>\n</g>\n<!-- 0&#45;&gt;1 -->\n<g id=\"edge2\" class=\"edge\">\n<title>0&#45;&gt;1</title>\n<path fill=\"none\" stroke=\"black\" d=\"M69.57,-120.83C81.08,-129.85 97.72,-142.89 110.63,-153.01\"/>\n<polygon fill=\"black\" stroke=\"black\" points=\"116.26,-157.43 108.81,-155.59 113.51,-155.27 110.75,-153.11 110.75,-153.11 110.75,-153.11 113.51,-155.27 112.7,-150.63 116.26,-157.43 116.26,-157.43\"/>\n</g>\n<!-- 2 -->\n<g id=\"node4\" class=\"node\">\n<title>2</title>\n<ellipse fill=\"#ffffaa\" stroke=\"black\" cx=\"131\" cy=\"-110.19\" rx=\"18\" ry=\"18\"/>\n<ellipse fill=\"none\" stroke=\"black\" cx=\"131\" cy=\"-110.19\" rx=\"22\" ry=\"22\"/>\n<text text-anchor=\"middle\" x=\"131\" y=\"-106.49\" font-family=\"Lato\" font-size=\"14.00\">2</text>\n</g>\n<!-- 0&#45;&gt;2 -->\n<g id=\"edge3\" class=\"edge\">\n<title>0&#45;&gt;2</title>\n<path fill=\"none\" stroke=\"black\" d=\"M72.42,-104.47C81.26,-103.48 92.4,-103.21 102.52,-103.65\"/>\n<polygon fill=\"black\" stroke=\"black\" points=\"109.66,-104.09 102.48,-106.8 106.17,-103.88 102.67,-103.66 102.67,-103.66 102.67,-103.66 106.17,-103.88 102.87,-100.51 109.66,-104.09 109.66,-104.09\"/>\n</g>\n<!-- 3 -->\n<g id=\"node5\" class=\"node\">\n<title>3</title>\n<ellipse fill=\"#ffffaa\" stroke=\"black\" cx=\"131\" cy=\"-34.19\" rx=\"18\" ry=\"18\"/>\n<text text-anchor=\"middle\" x=\"131\" y=\"-30.49\" font-family=\"Lato\" font-size=\"14.00\">3</text>\n</g>\n<!-- 0&#45;&gt;3 -->\n<g id=\"edge4\" class=\"edge\">\n<title>0&#45;&gt;3</title>\n<path fill=\"none\" stroke=\"black\" d=\"M68.22,-97.64C80.32,-85.21 98.98,-66.06 112.62,-52.04\"/>\n<polygon fill=\"black\" stroke=\"black\" points=\"117.76,-46.76 115.14,-53.98 115.32,-49.27 112.88,-51.78 112.88,-51.78 112.88,-51.78 115.32,-49.27 110.62,-49.58 117.76,-46.76 117.76,-46.76\"/>\n</g>\n<!-- 1&#45;&gt;1 -->\n<g id=\"edge5\" class=\"edge\">\n<title>1&#45;&gt;1</title>\n<path fill=\"none\" stroke=\"black\" d=\"M118.75,-181.86C113.86,-192.85 117.94,-204.19 131,-204.19 141.21,-204.19 145.93,-197.27 145.17,-189\"/>\n<polygon fill=\"black\" stroke=\"black\" points=\"143.25,-181.86 148.11,-187.8 144.16,-185.24 145.07,-188.62 145.07,-188.62 145.07,-188.62 144.16,-185.24 142.03,-189.44 143.25,-181.86 143.25,-181.86\"/>\n</g>\n<!-- 4 -->\n<g id=\"node6\" class=\"node\">\n<title>4</title>\n<ellipse fill=\"#ffffaa\" stroke=\"black\" cx=\"207\" cy=\"-78.19\" rx=\"18\" ry=\"18\"/>\n<text text-anchor=\"middle\" x=\"207\" y=\"-74.49\" font-family=\"Lato\" font-size=\"14.00\">4</text>\n</g>\n<!-- 1&#45;&gt;4 -->\n<g id=\"edge6\" class=\"edge\">\n<title>1&#45;&gt;4</title>\n<path fill=\"none\" stroke=\"black\" d=\"M143.24,-154.53C155.81,-139.24 176.25,-114.38 190.37,-97.2\"/>\n<polygon fill=\"black\" stroke=\"black\" points=\"194.9,-91.7 192.89,-99.11 192.67,-94.4 190.45,-97.1 190.45,-97.1 190.45,-97.1 192.67,-94.4 188.02,-95.1 194.9,-91.7 194.9,-91.7\"/>\n</g>\n<!-- 2&#45;&gt;0 -->\n<g id=\"edge7\" class=\"edge\">\n<title>2&#45;&gt;0</title>\n<path fill=\"none\" stroke=\"black\" d=\"M109.66,-116.3C100.32,-117.07 89.2,-117.15 79.5,-116.53\"/>\n<polygon fill=\"black\" stroke=\"black\" points=\"72.42,-115.91 79.67,-113.38 75.91,-116.22 79.4,-116.52 79.4,-116.52 79.4,-116.52 75.91,-116.22 79.12,-119.66 72.42,-115.91 72.42,-115.91\"/>\n</g>\n<!-- 3&#45;&gt;3 -->\n<g id=\"edge8\" class=\"edge\">\n<title>3&#45;&gt;3</title>\n<path fill=\"none\" stroke=\"black\" d=\"M118.75,-47.86C113.86,-58.85 117.94,-70.19 131,-70.19 141.21,-70.19 145.93,-63.27 145.17,-55\"/>\n<polygon fill=\"black\" stroke=\"black\" points=\"143.25,-47.86 148.11,-53.8 144.16,-51.24 145.07,-54.62 145.07,-54.62 145.07,-54.62 144.16,-51.24 142.03,-55.44 143.25,-47.86 143.25,-47.86\"/>\n</g>\n<!-- 4&#45;&gt;0 -->\n<g id=\"edge9\" class=\"edge\">\n<title>4&#45;&gt;0</title>\n<path fill=\"none\" stroke=\"black\" d=\"M199.12,-61.66C190.96,-44.46 175.55,-18.5 153,-7.19 135.52,1.57 125.69,2.99 109,-7.19 81.19,-24.16 67.35,-60.91 60.94,-85.6\"/>\n<polygon fill=\"black\" stroke=\"black\" points=\"59.25,-92.53 57.85,-84.98 60.08,-89.13 60.91,-85.73 60.91,-85.73 60.91,-85.73 60.08,-89.13 63.97,-86.47 59.25,-92.53 59.25,-92.53\"/>\n</g>\n</g>\n</svg>\n"
     },
     "execution_count": 40,
     "metadata": {},
     "output_type": "execute_result"
    }
   ],
   "source": [
    "\n",
    "p_game = spot.degeneralize(game)\n",
    "p_game.show('.g')\n"
   ],
   "metadata": {
    "collapsed": false
   }
  },
  {
   "cell_type": "code",
   "execution_count": 37,
   "outputs": [
    {
     "ename": "AttributeError",
     "evalue": "'twa_graph' object has no attribute 'original_states'",
     "output_type": "error",
     "traceback": [
      "\u001B[0;31m---------------------------------------------------------------------------\u001B[0m",
      "\u001B[0;31mAttributeError\u001B[0m                            Traceback (most recent call last)",
      "\u001B[0;32m/var/folders/5t/mgwtn_7x5_xct8p03n7stznr0000gn/T/ipykernel_9832/1372661682.py\u001B[0m in \u001B[0;36m<module>\u001B[0;34m\u001B[0m\n\u001B[0;32m----> 1\u001B[0;31m \u001B[0mp_game\u001B[0m\u001B[0;34m.\u001B[0m\u001B[0moriginal_states\u001B[0m\u001B[0;34m\u001B[0m\u001B[0;34m\u001B[0m\u001B[0m\n\u001B[0m",
      "\u001B[0;31mAttributeError\u001B[0m: 'twa_graph' object has no attribute 'original_states'"
     ]
    }
   ],
   "source": [
    "p_game.get_original_states"
   ],
   "metadata": {
    "collapsed": false
   }
  },
  {
   "cell_type": "code",
   "execution_count": null,
   "outputs": [],
   "source": [],
   "metadata": {
    "collapsed": false
   }
  },
  {
   "cell_type": "code",
   "execution_count": 26,
   "outputs": [],
   "source": [
    "g = p_game.get_graph()"
   ],
   "metadata": {
    "collapsed": false
   }
  },
  {
   "cell_type": "code",
   "execution_count": null,
   "outputs": [],
   "source": [
    "g."
   ],
   "metadata": {
    "collapsed": false
   }
  },
  {
   "cell_type": "code",
   "execution_count": 48,
   "outputs": [
    {
     "data": {
      "text/plain": "<spot.jupyter.SVG object>",
      "image/svg+xml": "<?xml version=\"1.0\" encoding=\"UTF-8\" standalone=\"no\"?>\n<!DOCTYPE svg PUBLIC \"-//W3C//DTD SVG 1.1//EN\"\n \"http://www.w3.org/Graphics/SVG/1.1/DTD/svg11.dtd\">\n<!-- Generated by graphviz version 2.50.0 (0)\n -->\n<!-- Pages: 1 -->\n<svg width=\"293pt\" height=\"241pt\"\n viewBox=\"0.00 0.00 293.42 240.53\" xmlns=\"http://www.w3.org/2000/svg\" xmlns:xlink=\"http://www.w3.org/1999/xlink\">\n<g id=\"graph0\" class=\"graph\" transform=\"scale(1.0 1.0) rotate(0) translate(4 236.53)\">\n<polygon fill=\"white\" stroke=\"transparent\" points=\"-4,4 -4,-236.53 289.42,-236.53 289.42,4 -4,4\"/>\n<text text-anchor=\"start\" x=\"121.71\" y=\"-217.33\" font-family=\"Lato\" font-size=\"14.00\">[Büchi]</text>\n<!-- I -->\n<!-- 0 -->\n<g id=\"node2\" class=\"node\">\n<title>0</title>\n<polygon fill=\"#ffffaa\" stroke=\"#33a02c\" stroke-width=\"2\" points=\"64,-132.53 37,-114.53 64,-96.53 91,-114.53 64,-132.53\"/>\n<text text-anchor=\"middle\" x=\"64\" y=\"-110.83\" font-family=\"Lato\" font-size=\"14.00\">0</text>\n</g>\n<!-- I&#45;&gt;0 -->\n<g id=\"edge1\" class=\"edge\">\n<title>I&#45;&gt;0</title>\n<path fill=\"none\" stroke=\"black\" d=\"M1.04,-114.53C1.93,-114.53 15.66,-114.53 29.98,-114.53\"/>\n<polygon fill=\"black\" stroke=\"black\" points=\"37,-114.53 30,-117.68 33.5,-114.53 30,-114.53 30,-114.53 30,-114.53 33.5,-114.53 30,-111.38 37,-114.53 37,-114.53\"/>\n</g>\n<!-- 1 -->\n<g id=\"node3\" class=\"node\">\n<title>1</title>\n<polygon fill=\"#ffffaa\" stroke=\"#33a02c\" stroke-width=\"2\" points=\"161.21,-191.53 134.21,-173.53 161.21,-155.53 188.21,-173.53 161.21,-191.53\"/>\n<text text-anchor=\"middle\" x=\"161.21\" y=\"-169.83\" font-family=\"Lato\" font-size=\"14.00\">1</text>\n</g>\n<!-- 0&#45;&gt;1 -->\n<g id=\"edge2\" class=\"edge\">\n<title>0&#45;&gt;1</title>\n<path fill=\"none\" stroke=\"black\" d=\"M78.64,-122.99C94.76,-132.97 121.72,-149.68 140.21,-161.14\"/>\n<polygon fill=\"black\" stroke=\"black\" points=\"146.59,-165.09 138.99,-164.09 143.62,-163.25 140.64,-161.41 140.64,-161.41 140.64,-161.41 143.62,-163.25 142.3,-158.73 146.59,-165.09 146.59,-165.09\"/>\n</g>\n<!-- 2 -->\n<g id=\"node4\" class=\"node\">\n<title>2</title>\n<polygon fill=\"#ffffaa\" stroke=\"#33a02c\" stroke-width=\"2\" points=\"161.21,-132.38 134.04,-114.53 161.21,-96.68 188.38,-114.53 161.21,-132.38\"/>\n<polygon fill=\"none\" stroke=\"#33a02c\" stroke-width=\"2\" points=\"161.21,-137.15 126.79,-114.53 161.21,-91.92 195.63,-114.53 161.21,-137.15\"/>\n<text text-anchor=\"middle\" x=\"161.21\" y=\"-110.83\" font-family=\"Lato\" font-size=\"14.00\">2</text>\n</g>\n<!-- 0&#45;&gt;2 -->\n<g id=\"edge3\" class=\"edge\">\n<title>0&#45;&gt;2</title>\n<path fill=\"none\" stroke=\"#33a02c\" stroke-width=\"2\" d=\"M82.91,-109.12C95.69,-107.78 113.21,-107.45 128.35,-108.12\"/>\n<polygon fill=\"#33a02c\" stroke=\"#33a02c\" stroke-width=\"2\" points=\"135.56,-108.53 128.39,-111.28 132.03,-108.83 128.54,-108.63 128.57,-108.13 128.6,-107.64 132.09,-107.84 128.75,-104.99 135.56,-108.53 135.56,-108.53\"/>\n</g>\n<!-- 3 -->\n<g id=\"node5\" class=\"node\">\n<title>3</title>\n<polygon fill=\"#ffffaa\" stroke=\"#e31a1c\" stroke-width=\"2\" points=\"161.21,-55.53 134.21,-37.53 161.21,-19.53 188.21,-37.53 161.21,-55.53\"/>\n<text text-anchor=\"middle\" x=\"161.21\" y=\"-33.83\" font-family=\"Lato\" font-size=\"14.00\">3</text>\n</g>\n<!-- 0&#45;&gt;3 -->\n<g id=\"edge4\" class=\"edge\">\n<title>0&#45;&gt;3</title>\n<path fill=\"none\" stroke=\"black\" d=\"M77.06,-104.78C93.66,-91.36 123.65,-67.1 142.71,-51.69\"/>\n<polygon fill=\"black\" stroke=\"black\" points=\"148.25,-47.21 144.79,-54.06 145.53,-49.41 142.81,-51.61 142.81,-51.61 142.81,-51.61 145.53,-49.41 140.83,-49.16 148.25,-47.21 148.25,-47.21\"/>\n</g>\n<!-- 1&#45;&gt;1 -->\n<g id=\"edge5\" class=\"edge\">\n<title>1&#45;&gt;1</title>\n<path fill=\"none\" stroke=\"black\" d=\"M148.29,-183.48C138.53,-195.46 142.84,-209.53 161.21,-209.53 176.57,-209.53 182.1,-199.7 177.8,-189.48\"/>\n<polygon fill=\"black\" stroke=\"black\" points=\"174.13,-183.48 180.47,-187.81 175.96,-186.47 177.79,-189.45 177.79,-189.45 177.79,-189.45 175.96,-186.47 175.1,-191.1 174.13,-183.48 174.13,-183.48\"/>\n</g>\n<!-- 4 -->\n<g id=\"node6\" class=\"node\">\n<title>4</title>\n<polygon fill=\"#ffffaa\" stroke=\"#33a02c\" stroke-width=\"2\" points=\"258.42,-100.53 231.42,-82.53 258.42,-64.53 285.42,-82.53 258.42,-100.53\"/>\n<text text-anchor=\"middle\" x=\"258.42\" y=\"-78.83\" font-family=\"Lato\" font-size=\"14.00\">4</text>\n</g>\n<!-- 1&#45;&gt;4 -->\n<g id=\"edge6\" class=\"edge\">\n<title>1&#45;&gt;4</title>\n<path fill=\"none\" stroke=\"#33a02c\" stroke-width=\"2\" d=\"M174.49,-164.12C180.88,-159.08 188.74,-152.66 195.42,-146.53 212.19,-131.17 230.14,-112.34 242.39,-99.1\"/>\n<polygon fill=\"#33a02c\" stroke=\"#33a02c\" stroke-width=\"2\" points=\"247.27,-93.8 244.85,-101.08 245.27,-96.71 242.9,-99.29 242.53,-98.95 242.17,-98.61 244.53,-96.03 240.21,-96.82 247.27,-93.8 247.27,-93.8\"/>\n</g>\n<!-- 2&#45;&gt;0 -->\n<g id=\"edge7\" class=\"edge\">\n<title>2&#45;&gt;0</title>\n<path fill=\"none\" stroke=\"#33a02c\" stroke-width=\"2\" d=\"M135.56,-120.53C121.52,-121.53 103.99,-121.53 89.92,-120.55\"/>\n<polygon fill=\"#33a02c\" stroke=\"#33a02c\" stroke-width=\"2\" points=\"82.91,-119.94 90.15,-117.41 86.44,-119.75 89.93,-120.05 89.88,-120.55 89.84,-121.04 86.35,-120.74 89.61,-123.68 82.91,-119.94 82.91,-119.94\"/>\n</g>\n<!-- 3&#45;&gt;3 -->\n<g id=\"edge8\" class=\"edge\">\n<title>3&#45;&gt;3</title>\n<path fill=\"none\" stroke=\"black\" d=\"M148.29,-47.48C138.53,-59.46 142.84,-73.53 161.21,-73.53 176.57,-73.53 182.1,-63.7 177.8,-53.48\"/>\n<polygon fill=\"black\" stroke=\"black\" points=\"174.13,-47.48 180.47,-51.81 175.96,-50.47 177.79,-53.45 177.79,-53.45 177.79,-53.45 175.96,-50.47 175.1,-55.1 174.13,-47.48 174.13,-47.48\"/>\n</g>\n<!-- 4&#45;&gt;0 -->\n<g id=\"edge9\" class=\"edge\">\n<title>4&#45;&gt;0</title>\n<path fill=\"none\" stroke=\"#33a02c\" stroke-width=\"2\" d=\"M250.77,-69.38C241.22,-52.13 221.81,-22.63 195.42,-10.53 167.78,2.14 153.44,4.49 127,-10.53 96.22,-28.01 79.11,-67.49 71,-92.47\"/>\n<polygon fill=\"#33a02c\" stroke=\"#33a02c\" stroke-width=\"2\" points=\"68.86,-99.4 67.92,-91.79 69.41,-95.91 70.45,-92.57 70.93,-92.72 71.4,-92.86 70.37,-96.21 73.93,-93.64 68.86,-99.4 68.86,-99.4\"/>\n</g>\n</g>\n</svg>\n"
     },
     "execution_count": 48,
     "metadata": {},
     "output_type": "execute_result"
    }
   ],
   "source": [
    "spot.set_state_players(p_game, [True] * len(p_game.get_original_states()))\n",
    "spot.solve_game(p_game)\n",
    "spot.highlight_strategy(p_game)\n",
    "p_game.show('.g')"
   ],
   "metadata": {
    "collapsed": false
   }
  },
  {
   "cell_type": "code",
   "execution_count": 47,
   "outputs": [
    {
     "data": {
      "text/plain": "5"
     },
     "execution_count": 47,
     "metadata": {},
     "output_type": "execute_result"
    }
   ],
   "source": [
    "len(p_game.get_original_states())"
   ],
   "metadata": {
    "collapsed": false
   }
  },
  {
   "cell_type": "code",
   "execution_count": 5,
   "outputs": [
    {
     "data": {
      "text/plain": "False"
     },
     "execution_count": 5,
     "metadata": {},
     "output_type": "execute_result"
    }
   ],
   "source": [
    "p_game = spot.parity_type_to_parity(game)\n",
    "spot.set_state_players(p_game, [True] * len(states))\n",
    "spot.solve_parity_game(p_game)"
   ],
   "metadata": {
    "collapsed": false
   }
  },
  {
   "cell_type": "code",
   "execution_count": null,
   "outputs": [],
   "source": [
    "spot.highlight_strategy(p_game)\n",
    "p_game.show('.g')"
   ],
   "metadata": {
    "collapsed": false
   }
  }
 ],
 "metadata": {
  "kernelspec": {
   "display_name": "Python 3",
   "language": "python",
   "name": "python3"
  },
  "language_info": {
   "codemirror_mode": {
    "name": "ipython",
    "version": 2
   },
   "file_extension": ".py",
   "mimetype": "text/x-python",
   "name": "python",
   "nbconvert_exporter": "python",
   "pygments_lexer": "ipython2",
   "version": "2.7.6"
  }
 },
 "nbformat": 4,
 "nbformat_minor": 0
}
