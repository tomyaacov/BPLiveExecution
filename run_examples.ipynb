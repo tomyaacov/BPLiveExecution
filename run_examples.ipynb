{
 "cells": [
  {
   "cell_type": "code",
   "execution_count": null,
   "outputs": [],
   "source": [
    "from examples.hot_cold import init_bprogram, params\n",
    "from dfs.dfs_bprogram import DFSBProgram\n",
    "import spot\n",
    "from buddy import bddtrue\n",
    "spot.setup()\n",
    "params[\"n\"] = 5"
   ],
   "metadata": {
    "collapsed": false
   }
  },
  {
   "cell_type": "code",
   "execution_count": null,
   "outputs": [],
   "source": [
    "dfs = DFSBProgram(init_bprogram)\n",
    "init, states = dfs.run()\n",
    "graph = DFSBProgram.save_graph(init, states, \"graph.dot\")\n",
    "graph"
   ],
   "metadata": {
    "collapsed": false
   }
  },
  {
   "cell_type": "code",
   "execution_count": null,
   "outputs": [],
   "source": [
    "bdict = spot.make_bdd_dict()\n",
    "game = spot.make_twa_graph(bdict)\n",
    "game.new_states(len(states))\n",
    "for s1 in states:\n",
    "    for e, s2 in s1.transitions.items():\n",
    "        if any(s2.must_finish):\n",
    "            game.new_edge(s1.spot_id, s2.spot_id, bddtrue)\n",
    "        else:\n",
    "            game.new_edge(s1.spot_id, s2.spot_id, bddtrue, [0])\n",
    "\n",
    "game.set_init_state(0)\n",
    "game.set_buchi()\n",
    "game.prop_state_acc(True)\n",
    "spot.set_state_players(game, [True]*len(states))\n",
    "game.show('.')  # Use \"g\" to hide the irrelevant edge labels."
   ],
   "metadata": {
    "collapsed": false
   }
  },
  {
   "cell_type": "code",
   "execution_count": null,
   "outputs": [],
   "source": [
    "print(game.to_str('hoa'))"
   ],
   "metadata": {
    "collapsed": false
   }
  },
  {
   "cell_type": "code",
   "execution_count": null,
   "outputs": [],
   "source": [
    "spot.solve_game(game)"
   ],
   "metadata": {
    "collapsed": false
   }
  },
  {
   "cell_type": "code",
   "execution_count": null,
   "outputs": [],
   "source": [
    "spot.highlight_strategy(game)\n",
    "game.show('.g')"
   ],
   "metadata": {
    "collapsed": false
   }
  },
  {
   "cell_type": "code",
   "execution_count": null,
   "outputs": [],
   "source": [
    "print(spot.get_state_winners(game))"
   ],
   "metadata": {
    "collapsed": false
   }
  },
  {
   "cell_type": "code",
   "execution_count": null,
   "outputs": [],
   "source": [
    "for i,b in enumerate(spot.get_state_winners(game)):\n",
    "    print(i, \":\", b)"
   ],
   "metadata": {
    "collapsed": false
   }
  },
  {
   "cell_type": "code",
   "execution_count": null,
   "outputs": [],
   "source": [
    "from examples.sokoban import init_bprogram, map_settings, pygame_settings\n",
    "from dfs.dfs_bprogram import DFSBProgram\n",
    "import spot\n",
    "from buddy import bddtrue\n",
    "spot.setup()\n",
    "from examples.sokoban_pygame.sokoban_maps import maps\n",
    "map_settings[\"map\"] = maps[0]\n",
    "pygame_settings[\"display\"] = False"
   ],
   "metadata": {
    "collapsed": false
   }
  },
  {
   "cell_type": "code",
   "execution_count": null,
   "outputs": [],
   "source": [
    "dfs = DFSBProgram(init_bprogram)\n",
    "init, states = dfs.run()\n",
    "graph = DFSBProgram.save_graph(init, states, \"graph.dot\")\n",
    "graph"
   ],
   "metadata": {
    "collapsed": false
   }
  },
  {
   "cell_type": "code",
   "execution_count": null,
   "outputs": [],
   "source": [],
   "metadata": {
    "collapsed": false
   }
  },
  {
   "cell_type": "code",
   "execution_count": null,
   "outputs": [],
   "source": [],
   "metadata": {
    "collapsed": false
   }
  }
 ],
 "metadata": {
  "kernelspec": {
   "display_name": "Python 3",
   "language": "python",
   "name": "python3"
  },
  "language_info": {
   "codemirror_mode": {
    "name": "ipython",
    "version": 2
   },
   "file_extension": ".py",
   "mimetype": "text/x-python",
   "name": "python",
   "nbconvert_exporter": "python",
   "pygments_lexer": "ipython2",
   "version": "2.7.6"
  }
 },
 "nbformat": 4,
 "nbformat_minor": 0
}
